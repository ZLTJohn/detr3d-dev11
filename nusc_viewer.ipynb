{
 "cells": [
  {
   "cell_type": "code",
   "execution_count": 8,
   "metadata": {},
   "outputs": [],
   "source": [
    "import pandas\n",
    "import mmengine\n",
    "# info = pandas.read_pickle('data/kitti-360/kitti360_infos_all.pkl')"
   ]
  },
  {
   "cell_type": "code",
   "execution_count": 9,
   "metadata": {},
   "outputs": [],
   "source": [
    "from projects.detr3d.custom_concat_dataset import CustomNusc\n",
    "from projects.configs.mono_ablation.metainfo import nusc_val\n",
    "import copy\n",
    "from mmdet3d.utils import register_all_modules, replace_ceph_backend"
   ]
  },
  {
   "cell_type": "code",
   "execution_count": 10,
   "metadata": {},
   "outputs": [
    {
     "name": "stdout",
     "output_type": "stream",
     "text": [
      "08/08 18:53:31 - mmengine - \u001b[4m\u001b[37mINFO\u001b[0m - ------------------------------\n",
      "08/08 18:53:31 - mmengine - \u001b[4m\u001b[37mINFO\u001b[0m - The length of the dataset: 26719\n",
      "08/08 18:53:31 - mmengine - \u001b[4m\u001b[37mINFO\u001b[0m - The number of instances per category in the dataset:\n",
      "+----------------------+--------+\n",
      "| category             | number |\n",
      "+----------------------+--------+\n",
      "| car                  | 105060 |\n",
      "| truck                | 18913  |\n",
      "| construction_vehicle | 3504   |\n",
      "| bus                  | 4189   |\n",
      "| trailer              | 4970   |\n",
      "| motorcycle           | 2226   |\n",
      "| bicycle              | 2303   |\n",
      "| pedestrian           | 51121  |\n",
      "+----------------------+--------+\n"
     ]
    }
   ],
   "source": [
    "register_all_modules()\n",
    "cfg = copy.deepcopy(nusc_val)\n",
    "# cfg['ann_file'] = 'nuscenes_infos_val.pkl'\n",
    "cfg['ann_file'] = 'nuscenes_infos_train_mono_front_bevdet.pkl'\n",
    "cfg.pop('type')\n",
    "cfg.pop('load_interval',None)\n",
    "dataset = CustomNusc(**cfg)"
   ]
  },
  {
   "cell_type": "code",
   "execution_count": 11,
   "metadata": {},
   "outputs": [],
   "source": [
    "from projects.detr3d.vis_zlt import visualizer_zlt\n",
    "from projects.detr3d.detr3d import DETR3D\n",
    "import os.path as osp\n",
    "import numpy as np\n",
    "from projects.detr3d.detr3d import DETR3D\n",
    "from mmdet3d.structures import LiDARInstance3DBoxes\n",
    "from mmengine.structures import InstanceData\n",
    "detr3d = DETR3D()\n",
    "vis = visualizer_zlt(debug_name='',vis_count=10000)\n"
   ]
  },
  {
   "cell_type": "code",
   "execution_count": null,
   "metadata": {},
   "outputs": [],
   "source": [
    "tmp = dataset[930]"
   ]
  },
  {
   "cell_type": "code",
   "execution_count": null,
   "metadata": {},
   "outputs": [],
   "source": [
    "print(tmp['data_samples'].gt_instances_3d)"
   ]
  },
  {
   "cell_type": "code",
   "execution_count": null,
   "metadata": {},
   "outputs": [],
   "source": [
    "tmp['data_samples'].metainfo['lidar_path']"
   ]
  },
  {
   "cell_type": "code",
   "execution_count": null,
   "metadata": {},
   "outputs": [],
   "source": [
    "import torch\n",
    "sample_idx = '0a0d6b8c2e884134a3b48df43d54c36a'\n",
    "trans = [ 646.2525, 1612.6713,    1.8371]# should be lidar2ego but not 2global\n",
    "kpts = np.load('/home/zhenglt/mmdev11/detr3d-dev11/debug/0a0d6b8c2e884134a3b48df43d54c36a.npy')\n",
    "kpts_3d = np.zeros((kpts.shape[0],7))\n",
    "gt_labels_3d = torch.zeros((kpts.shape[0]))\n",
    "kpts_3d[:,:2] = kpts\n",
    "kpts_3d[:,2] -= trans[-1]\n",
    "lidar_pts = np.load('/home/zhenglt/mmdev11/detr3d-dev11/debug/0a0d6b8c2e884134a3b48df43d54c36a.bin.npy')"
   ]
  },
  {
   "cell_type": "code",
   "execution_count": null,
   "metadata": {},
   "outputs": [],
   "source": [
    "gt_bboxes_3d = LiDARInstance3DBoxes(torch.tensor(kpts_3d),box_dim=7,origin=(0.5,0.5,0.5))\n",
    "map_inst = vis.toInstance({'gt_bboxes_3d': gt_bboxes_3d, 'gt_labels_3d': gt_labels_3d}, device=gt_labels_3d.device)"
   ]
  },
  {
   "cell_type": "code",
   "execution_count": 12,
   "metadata": {},
   "outputs": [
    {
     "name": "stdout",
     "output_type": "stream",
     "text": [
      "n015-2018-07-18-11-07-57+0800__LIDAR_TOP__1531883545549635\n",
      "singapore-onenorth\n"
     ]
    },
    {
     "name": "stdout",
     "output_type": "stream",
     "text": [
      "[[1. 0. 0. 0.]\n",
      " [0. 1. 0. 0.]\n",
      " [0. 0. 1. 0.]\n",
      " [0. 0. 0. 1.]]\n",
      "reference torch.Size([3, 3])\n",
      "900 1600\n",
      "torch.Size([1, 2, 3])\n",
      "frame: 30\n"
     ]
    }
   ],
   "source": [
    "map_inst = None\n",
    "for i in range(30,31,1):\n",
    "    frame = dataset[i]\n",
    "    name = osp.basename(frame['data_samples'].lidar_path).split('.')[0]\n",
    "    scene = frame['data_samples'].city_name\n",
    "    inst = frame['data_samples'].gt_instances_3d[:2]\n",
    "    batch_data_samples = frame['data_samples']\n",
    "    batch_input_metas = [batch_data_samples.metainfo]\n",
    "    batch_input_metas = detr3d.add_lidar2img(batch_input_metas)\n",
    "    gt_bboxes_3d = inst.bboxes_3d\n",
    "    corners_pt = np.array(gt_bboxes_3d.corners.view(-1, 3)).T\n",
    "    print(name)\n",
    "    # vis.visualize(inst, batch_input_metas,None,'test','debug/')\n",
    "    # cat_instances = InstanceData.cat([map_inst, vis.add_score(frame['data_samples'].gt_instances_3d)])\n",
    "    vis.visualize_dataset_item(frame,[vis.add_score(frame['data_samples'].gt_instances_3d)],pts = None,name_suffix='new_dataset', dirname='debug/dataset_op')"
   ]
  },
  {
   "cell_type": "code",
   "execution_count": 10,
   "metadata": {},
   "outputs": [
    {
     "data": {
      "text/plain": [
       "Compose(\n",
       "    maybe we need to fix this bug\n",
       "    LoadMultiViewImageFromFiles(to_float32=True, color_type='unchanged', num_views=1, num_ref_frames=-1, test_mode=False)\n",
       "    maybe we need to fix this bug\n",
       "    LoadAnnotations3D(\n",
       "    with_bbox_3d=True,     with_label_3d=True,     with_attr_label=False,     with_mask_3d=False,     with_seg_3d=False,     with_panoptic_3d=False,     with_bbox=False,     with_label=False,     with_mask=False,     with_seg=False,     with_bbox_depth=False,     poly2mask=True)    seg_offset=None)\n",
       "    ObjectNameFilter(classes=['car', 'truck', 'construction_vehicle', 'bus', 'trailer', 'motorcycle', 'bicycle', 'pedestrian'])\n",
       "    <projects.detr3d.transform_3d.ego_transform object at 0x7feec9f642b0>\n",
       "    <projects.detr3d.transform_3d.EgoTranslate object at 0x7feec9f643d0>\n",
       "    ObjectRangeFilter(point_cloud_range=[0.0, -51.20000076293945, -5.0, 51.20000076293945, 51.20000076293945, 4.0])\n",
       "    ProjectLabelToWaymoClass\n",
       "    <projects.detr3d.transform_3d.Ksync object at 0x7feec9f644f0>\n",
       "    Pack3DDetInputsExtra(keys=['img', 'gt_bboxes_3d', 'gt_labels_3d'])(meta_keys=('img_path', 'ori_shape', 'img_shape', 'lidar2img', 'depth2img', 'cam2img', 'pad_shape', 'scale_factor', 'flip', 'pcd_horizontal_flip', 'pcd_vertical_flip', 'box_mode_3d', 'box_type_3d', 'img_norm_cfg', 'num_pts_feats', 'pcd_trans', 'sample_idx', 'pcd_scale_factor', 'pcd_rotation', 'pcd_rotation_angle', 'lidar_path', 'transformation_3d_flow', 'trans_mat', 'affine_aug', 'sweep_img_metas', 'ori_cam2img', 'cam2global', 'crop_offset', 'img_crop_offset', 'resize_img_shape', 'lidar2cam', 'ori_lidar2img', 'num_ref_frames', 'num_views', 'ego2global', 'dataset_name', 'city_name', 'timestamp', 'token', 'num_pts_feats', 'ksync_factor', 'lidar2ego', 'img_flip'))\n",
       ")"
      ]
     },
     "execution_count": 10,
     "metadata": {},
     "output_type": "execute_result"
    }
   ],
   "source": []
  },
  {
   "cell_type": "code",
   "execution_count": null,
   "metadata": {},
   "outputs": [],
   "source": [
    "map_inst = None\n",
    "for i in range(930,931,1):\n",
    "    frame = dataset[i]\n",
    "    name = osp.basename(frame['data_samples'].lidar_path).split('.')[0]\n",
    "    scene = frame['data_samples'].city_name\n",
    "    inst = frame['data_samples'].gt_instances_3d[:2]\n",
    "    batch_data_samples = frame['data_samples']\n",
    "    batch_input_metas = [batch_data_samples.metainfo]\n",
    "    batch_input_metas = detr3d.add_lidar2img(batch_input_metas)\n",
    "    gt_bboxes_3d = inst.bboxes_3d\n",
    "    corners_pt = np.array(gt_bboxes_3d.corners.view(-1, 3)).T\n",
    "    print(name)\n",
    "    # vis.visualize(inst, batch_input_metas,None,'test','debug/')\n",
    "    # cat_instances = InstanceData.cat([map_inst, vis.add_score(frame['data_samples'].gt_instances_3d)])\n",
    "    vis.visualize_dataset_item(frame,[vis.add_score(frame['data_samples'].gt_instances_3d)],pts = None,name_suffix='small_pcrange', dirname='debug/lyc_map')"
   ]
  },
  {
   "cell_type": "code",
   "execution_count": null,
   "metadata": {},
   "outputs": [],
   "source": [
    "# token2sample_idx\n",
    "import pandas\n",
    "import mmengine\n",
    "infos = pandas.read_pickle('data/nus_v2/nuscenes_infos_trainval.pkl')\n",
    "\n"
   ]
  },
  {
   "cell_type": "code",
   "execution_count": null,
   "metadata": {},
   "outputs": [],
   "source": [
    "token2sampleidx = {}\n",
    "for i,info in enumerate(infos['data_list']):\n",
    "    token2sampleidx[info['token']] = i\n",
    "mmengine.dump(token2sampleidx,'debug/lyc_map/token2idx_trainval.pkl')"
   ]
  },
  {
   "cell_type": "code",
   "execution_count": null,
   "metadata": {},
   "outputs": [],
   "source": []
  }
 ],
 "metadata": {
  "kernelspec": {
   "display_name": "mmdev11",
   "language": "python",
   "name": "python3"
  },
  "language_info": {
   "codemirror_mode": {
    "name": "ipython",
    "version": 3
   },
   "file_extension": ".py",
   "mimetype": "text/x-python",
   "name": "python",
   "nbconvert_exporter": "python",
   "pygments_lexer": "ipython3",
   "version": "3.8.15"
  },
  "orig_nbformat": 4
 },
 "nbformat": 4,
 "nbformat_minor": 2
}
