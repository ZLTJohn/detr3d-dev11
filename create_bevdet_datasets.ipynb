{
 "cells": [
  {
   "cell_type": "code",
   "execution_count": 1,
   "metadata": {},
   "outputs": [],
   "source": [
    "import pandas\n",
    "nusc_train = 'data/nus_v2/nuscenes_infos_train_mono_front.pkl'\n",
    "nusc_val = 'data/nus_v2/nuscenes_infos_val_mono_front.pkl'\n",
    "nusc_val_part = 'data/nus_v2/nuscenes_infos_val_part_mono_front.pkl'\n",
    "lyft_train = 'data/lyft/lyft_infos_train_mono_front.pkl'\n",
    "lyft_val = 'data/lyft/lyft_infos_val_mono_front.pkl'"
   ]
  },
  {
   "cell_type": "code",
   "execution_count": 2,
   "metadata": {},
   "outputs": [],
   "source": [
    "infos = pandas.read_pickle(nusc_train)"
   ]
  },
  {
   "cell_type": "code",
   "execution_count": 3,
   "metadata": {},
   "outputs": [
    {
     "name": "stdout",
     "output_type": "stream",
     "text": [
      "[-7.0452386  18.77374049 -0.10309802  7.516       2.312       3.093\n",
      " -0.76545142]\n",
      "LiDARInstance3DBoxes(\n",
      "    tensor([[-7.0452, 18.7737, -1.6496,  7.5160,  2.3120,  3.0930, -0.7655]]))\n",
      "tensor([[-7.0452, 18.7737, -0.1031]]) tensor([[7.5160, 2.3120, 3.0930]]) tensor([-0.7655])\n",
      "[[-7.045238494873047, 18.773740768432617, -0.10309803485870361]] [[7.515999794006348, 2.312000036239624, 3.0929999351501465]] [-0.7654514312744141]\n"
     ]
    }
   ],
   "source": [
    "import numpy as np\n",
    "from mmdet3d.structures import LiDARInstance3DBoxes\n",
    "inst = infos['data_list'][1]['instances'][0]\n",
    "gt_bbox_3d = np.array(inst['bbox_3d'])\n",
    "print(gt_bbox_3d)\n",
    "gt_bbox_3d= LiDARInstance3DBoxes([gt_bbox_3d],box_dim=7,origin=(0.5, 0.5, 0.5))\n",
    "print(gt_bbox_3d)\n",
    "print(gt_bbox_3d.gravity_center,gt_bbox_3d.dims,gt_bbox_3d.yaw)\n",
    "print(gt_bbox_3d.gravity_center.tolist(),gt_bbox_3d.dims.tolist(),gt_bbox_3d.yaw.tolist())"
   ]
  },
  {
   "cell_type": "code",
   "execution_count": 4,
   "metadata": {},
   "outputs": [],
   "source": [
    "R = np.array([[0,1,0,0],[-1,0,0,0],[0,0,1,0],[0,0,0,1]])\n",
    "new2old = np.linalg.inv(R)\n",
    "indx=0\n",
    "for info in infos['data_list']:\n",
    "    # what to change: instances, cam2ego, lidar2cam, ego2global\n",
    "    insts = info['instances']\n",
    "    bboxes = []\n",
    "    for inst in insts:\n",
    "        bboxes.append(inst['bbox_3d'])\n",
    "    gt_bbox_3d= LiDARInstance3DBoxes(np.array(bboxes),box_dim=7,origin=(0.5, 0.5, 0.5))\n",
    "    gt_bbox_3d.rotate((R[:3,:3]).T)\n",
    "    xyz, lwh, yaw= gt_bbox_3d.gravity_center.tolist(), gt_bbox_3d.dims.tolist(), gt_bbox_3d.yaw.tolist()\n",
    "    for i in range(len(info['instances'])):\n",
    "        info['instances'][i]['bbox_3d'] = [*xyz[i],*lwh[i],yaw[i]]\n",
    "\n",
    "    e2g = info['ego2global']\n",
    "    c2e = info['images']['CAM_FRONT']['cam2ego']\n",
    "    l2c = info['images']['CAM_FRONT']['lidar2cam']\n",
    "    info['images']['CAM_FRONT']['lidar2cam'] = (np.array(l2c) @ new2old).tolist()\n",
    "    info['images']['CAM_FRONT']['cam2ego'] = (R @ np.array(c2e)).tolist()\n",
    "    info['ego2global'] = (np.array(e2g) @ new2old).tolist()\n",
    "    indx+=1\n",
    "    "
   ]
  },
  {
   "cell_type": "code",
   "execution_count": 5,
   "metadata": {},
   "outputs": [],
   "source": [
    "import mmengine\n",
    "mmengine.dump(infos,'data/nus_v2/nuscenes_infos_train_mono_front_bevdet.pkl')"
   ]
  },
  {
   "cell_type": "code",
   "execution_count": null,
   "metadata": {},
   "outputs": [],
   "source": [
    "print(infos['data_list'][0].keys())\n",
    "print(infos['data_list'][0]['images']['CAM_FRONT'].keys())\n",
    "print(infos['data_list'][0]['ego2global'])\n",
    "print(infos['data_list'][0]['images']['CAM_FRONT']['cam2ego'])\n",
    "print(infos['data_list'][0]['images']['CAM_FRONT']['lidar2cam'])\n",
    "print(infos['data_list'][0]['instances'][0])\n",
    "print(infos['data_list'][1]['token'])"
   ]
  }
 ],
 "metadata": {
  "kernelspec": {
   "display_name": "mmdev11",
   "language": "python",
   "name": "python3"
  },
  "language_info": {
   "codemirror_mode": {
    "name": "ipython",
    "version": 3
   },
   "file_extension": ".py",
   "mimetype": "text/x-python",
   "name": "python",
   "nbconvert_exporter": "python",
   "pygments_lexer": "ipython3",
   "version": "3.8.15"
  },
  "orig_nbformat": 4
 },
 "nbformat": 4,
 "nbformat_minor": 2
}
