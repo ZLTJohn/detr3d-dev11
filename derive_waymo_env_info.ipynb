{
 "cells": [
  {
   "cell_type": "code",
   "execution_count": 1,
   "metadata": {},
   "outputs": [],
   "source": [
    "import os\n",
    "import tensorflow.compat.v1 as tf\n",
    "import math\n",
    "import numpy as np\n",
    "import itertools\n",
    "\n",
    "tf.enable_eager_execution()\n",
    "\n",
    "from waymo_open_dataset.utils import range_image_utils\n",
    "from waymo_open_dataset.utils import transform_utils\n",
    "from waymo_open_dataset.utils import  frame_utils\n",
    "from waymo_open_dataset import dataset_pb2 as open_dataset\n",
    "import numpy as np\n",
    "import torch"
   ]
  },
  {
   "cell_type": "code",
   "execution_count": 9,
   "metadata": {},
   "outputs": [
    {
     "name": "stdout",
     "output_type": "stream",
     "text": [
      "[                                ] 3/202, 0.1 task/s, elapsed: 59s, ETA:  3911s"
     ]
    },
    {
     "ename": "KeyboardInterrupt",
     "evalue": "",
     "output_type": "error",
     "traceback": [
      "\u001b[0;31m---------------------------------------------------------------------------\u001b[0m",
      "\u001b[0;31mKeyboardInterrupt\u001b[0m                         Traceback (most recent call last)",
      "Cell \u001b[0;32mIn[9], line 15\u001b[0m\n\u001b[1;32m     13\u001b[0m \u001b[39mfor\u001b[39;00m name \u001b[39min\u001b[39;00m tfnames:\n\u001b[1;32m     14\u001b[0m     dataset \u001b[39m=\u001b[39m tf\u001b[39m.\u001b[39mdata\u001b[39m.\u001b[39mTFRecordDataset(name, compression_type\u001b[39m=\u001b[39m\u001b[39m'\u001b[39m\u001b[39m'\u001b[39m)\n\u001b[0;32m---> 15\u001b[0m     \u001b[39mfor\u001b[39;00m data \u001b[39min\u001b[39;00m dataset:\n\u001b[1;32m     16\u001b[0m         frame \u001b[39m=\u001b[39m open_dataset\u001b[39m.\u001b[39mFrame()\n\u001b[1;32m     17\u001b[0m         frame\u001b[39m.\u001b[39mParseFromString(\u001b[39mbytearray\u001b[39m(data\u001b[39m.\u001b[39mnumpy()))\n",
      "File \u001b[0;32m~/anaconda3/envs/mmdev11/lib/python3.8/site-packages/tensorflow/python/data/ops/iterator_ops.py:761\u001b[0m, in \u001b[0;36mOwnedIterator.__next__\u001b[0;34m(self)\u001b[0m\n\u001b[1;32m    759\u001b[0m \u001b[39mdef\u001b[39;00m \u001b[39m__next__\u001b[39m(\u001b[39mself\u001b[39m):\n\u001b[1;32m    760\u001b[0m   \u001b[39mtry\u001b[39;00m:\n\u001b[0;32m--> 761\u001b[0m     \u001b[39mreturn\u001b[39;00m \u001b[39mself\u001b[39;49m\u001b[39m.\u001b[39;49m_next_internal()\n\u001b[1;32m    762\u001b[0m   \u001b[39mexcept\u001b[39;00m errors\u001b[39m.\u001b[39mOutOfRangeError:\n\u001b[1;32m    763\u001b[0m     \u001b[39mraise\u001b[39;00m \u001b[39mStopIteration\u001b[39;00m\n",
      "File \u001b[0;32m~/anaconda3/envs/mmdev11/lib/python3.8/site-packages/tensorflow/python/data/ops/iterator_ops.py:744\u001b[0m, in \u001b[0;36mOwnedIterator._next_internal\u001b[0;34m(self)\u001b[0m\n\u001b[1;32m    741\u001b[0m \u001b[39m# TODO(b/77291417): This runs in sync mode as iterators use an error status\u001b[39;00m\n\u001b[1;32m    742\u001b[0m \u001b[39m# to communicate that there is no more data to iterate over.\u001b[39;00m\n\u001b[1;32m    743\u001b[0m \u001b[39mwith\u001b[39;00m context\u001b[39m.\u001b[39mexecution_mode(context\u001b[39m.\u001b[39mSYNC):\n\u001b[0;32m--> 744\u001b[0m   ret \u001b[39m=\u001b[39m gen_dataset_ops\u001b[39m.\u001b[39;49miterator_get_next(\n\u001b[1;32m    745\u001b[0m       \u001b[39mself\u001b[39;49m\u001b[39m.\u001b[39;49m_iterator_resource,\n\u001b[1;32m    746\u001b[0m       output_types\u001b[39m=\u001b[39;49m\u001b[39mself\u001b[39;49m\u001b[39m.\u001b[39;49m_flat_output_types,\n\u001b[1;32m    747\u001b[0m       output_shapes\u001b[39m=\u001b[39;49m\u001b[39mself\u001b[39;49m\u001b[39m.\u001b[39;49m_flat_output_shapes)\n\u001b[1;32m    749\u001b[0m   \u001b[39mtry\u001b[39;00m:\n\u001b[1;32m    750\u001b[0m     \u001b[39m# Fast path for the case `self._structure` is not a nested structure.\u001b[39;00m\n\u001b[1;32m    751\u001b[0m     \u001b[39mreturn\u001b[39;00m \u001b[39mself\u001b[39m\u001b[39m.\u001b[39m_element_spec\u001b[39m.\u001b[39m_from_compatible_tensor_list(ret)  \u001b[39m# pylint: disable=protected-access\u001b[39;00m\n",
      "File \u001b[0;32m~/anaconda3/envs/mmdev11/lib/python3.8/site-packages/tensorflow/python/ops/gen_dataset_ops.py:2723\u001b[0m, in \u001b[0;36miterator_get_next\u001b[0;34m(iterator, output_types, output_shapes, name)\u001b[0m\n\u001b[1;32m   2721\u001b[0m \u001b[39mif\u001b[39;00m tld\u001b[39m.\u001b[39mis_eager:\n\u001b[1;32m   2722\u001b[0m   \u001b[39mtry\u001b[39;00m:\n\u001b[0;32m-> 2723\u001b[0m     _result \u001b[39m=\u001b[39m pywrap_tfe\u001b[39m.\u001b[39;49mTFE_Py_FastPathExecute(\n\u001b[1;32m   2724\u001b[0m       _ctx, \u001b[39m\"\u001b[39;49m\u001b[39mIteratorGetNext\u001b[39;49m\u001b[39m\"\u001b[39;49m, name, iterator, \u001b[39m\"\u001b[39;49m\u001b[39moutput_types\u001b[39;49m\u001b[39m\"\u001b[39;49m, output_types,\n\u001b[1;32m   2725\u001b[0m       \u001b[39m\"\u001b[39;49m\u001b[39moutput_shapes\u001b[39;49m\u001b[39m\"\u001b[39;49m, output_shapes)\n\u001b[1;32m   2726\u001b[0m     \u001b[39mreturn\u001b[39;00m _result\n\u001b[1;32m   2727\u001b[0m   \u001b[39mexcept\u001b[39;00m _core\u001b[39m.\u001b[39m_NotOkStatusException \u001b[39mas\u001b[39;00m e:\n",
      "\u001b[0;31mKeyboardInterrupt\u001b[0m: "
     ]
    }
   ],
   "source": [
    "import os\n",
    "from glob import glob\n",
    "from mmengine import ProgressBar\n",
    "import mmengine\n",
    "context = None\n",
    "# context = '10289507859301986274_4200_000_4220_000'\n",
    "# timestamp = '1557847410072052'\n",
    "# obj_id = 'MZ9L0O68d7aa3OveM57wFw'\n",
    "val_path = 'data/waymo_dev1x/waymo_format/validation/'\n",
    "fnames = os.listdir(val_path)\n",
    "tfnames= glob(val_path+'*.tfrecord')\n",
    "frame2env_info={}\n",
    "pb = ProgressBar(len(tfnames))\n",
    "for name in tfnames:\n",
    "    dataset = tf.data.TFRecordDataset(name, compression_type='')\n",
    "    for data in dataset:\n",
    "        frame = open_dataset.Frame()\n",
    "        frame.ParseFromString(bytearray(data.numpy()))\n",
    "        ts = frame.timestamp_micros\n",
    "        env_info = {\n",
    "            'time_of_day': frame.context.stats.time_of_day,\n",
    "            'location': frame.context.stats.location,\n",
    "            'weather': frame.context.stats.weather\n",
    "        }\n",
    "        frame2env_info[ts] = env_info\n",
    "    pb.update()\n",
    "mmengine.dump('data/waymo_dev1x/timestamp2env_info')"
   ]
  },
  {
   "cell_type": "code",
   "execution_count": 7,
   "metadata": {},
   "outputs": [
    {
     "name": "stdout",
     "output_type": "stream",
     "text": [
      "1522688014970187\n"
     ]
    },
    {
     "data": {
      "text/plain": [
       "laser_object_counts {\n",
       "  type: TYPE_VEHICLE\n",
       "  count: 10\n",
       "}\n",
       "laser_object_counts {\n",
       "  type: TYPE_SIGN\n",
       "  count: 14\n",
       "}\n",
       "time_of_day: \"Day\"\n",
       "location: \"location_phx\"\n",
       "weather: \"sunny\"\n",
       "camera_object_counts {\n",
       "  type: TYPE_VEHICLE\n",
       "  count: 58\n",
       "}\n",
       "camera_object_counts {\n",
       "  type: TYPE_PEDESTRIAN\n",
       "  count: 6\n",
       "}"
      ]
     },
     "execution_count": 7,
     "metadata": {},
     "output_type": "execute_result"
    }
   ],
   "source": []
  }
 ],
 "metadata": {
  "kernelspec": {
   "display_name": "mmdev11",
   "language": "python",
   "name": "python3"
  },
  "language_info": {
   "codemirror_mode": {
    "name": "ipython",
    "version": 3
   },
   "file_extension": ".py",
   "mimetype": "text/x-python",
   "name": "python",
   "nbconvert_exporter": "python",
   "pygments_lexer": "ipython3",
   "version": "3.8.15"
  },
  "orig_nbformat": 4
 },
 "nbformat": 4,
 "nbformat_minor": 2
}
